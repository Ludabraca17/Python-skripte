words1 = {"apple": 1, "banana": 2, "cherry": 3, "date": 4, "elderberry": 5}
words2 = {"fig": 1, "grape": 2, "honeydew": 3, "kiwi": 4, "lemon": 5}

def sort_words_by_numbers(words_dict):
    # Create a list of tuples (word, number)
    word_number_pairs = [(word, number) for word, number in words_dict.items()]

    # Sort the list of tuples by number
    sorted_pairs = sorted(word_number_pairs, key=lambda x: x[1])

    # Create a list to hold the final sorted words
    sorted_words = []
    current_number = None
    current_group = []

    for word, number in sorted_pairs:
        if number != current_number:
            if current_group:
                sorted_words.append(current_group)
            current_group = [word]
            current_number = number
        else:
            current_group.append(word)

    if current_group:
        sorted_words.append(current_group)

    return sorted_words

# Test the function with words1 and words2
sorted_words1 = sort_words_by_numbers(words1)
sorted_words2 = sort_words_by_numbers(words2)

print("Sorted words1:", sorted_words1)
print("Sorted words2:", sorted_words2)
